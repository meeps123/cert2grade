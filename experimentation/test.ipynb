{
 "cells": [
  {
   "cell_type": "code",
   "execution_count": 17,
   "metadata": {},
   "outputs": [
    {
     "name": "stdout",
     "output_type": "stream",
     "text": [
      "download https://paddleocr.bj.bcebos.com/PP-OCRv3/english/en_PP-OCRv3_det_infer.tar to C:\\Users\\cheongalc/.paddleocr/whl\\det\\en\\en_PP-OCRv3_det_infer\\en_PP-OCRv3_det_infer.tar\n"
     ]
    },
    {
     "name": "stderr",
     "output_type": "stream",
     "text": [
      "100%|██████████| 4.00M/4.00M [00:05<00:00, 767kiB/s] \n"
     ]
    },
    {
     "name": "stdout",
     "output_type": "stream",
     "text": [
      "download https://paddleocr.bj.bcebos.com/PP-OCRv3/english/en_PP-OCRv3_rec_infer.tar to C:\\Users\\cheongalc/.paddleocr/whl\\rec\\en\\en_PP-OCRv3_rec_infer\\en_PP-OCRv3_rec_infer.tar\n"
     ]
    },
    {
     "name": "stderr",
     "output_type": "stream",
     "text": [
      "100%|██████████| 9.96M/9.96M [00:04<00:00, 2.28MiB/s]\n"
     ]
    },
    {
     "name": "stdout",
     "output_type": "stream",
     "text": [
      "download https://paddleocr.bj.bcebos.com/dygraph_v2.0/ch/ch_ppocr_mobile_v2.0_cls_infer.tar to C:\\Users\\cheongalc/.paddleocr/whl\\cls\\ch_ppocr_mobile_v2.0_cls_infer\\ch_ppocr_mobile_v2.0_cls_infer.tar\n"
     ]
    },
    {
     "name": "stderr",
     "output_type": "stream",
     "text": [
      "100%|██████████| 2.19M/2.19M [00:02<00:00, 910kiB/s] "
     ]
    },
    {
     "name": "stdout",
     "output_type": "stream",
     "text": [
      "[2022/11/03 13:41:40] ppocr DEBUG: Namespace(help='==SUPPRESS==', use_gpu=False, use_xpu=False, use_npu=False, ir_optim=True, use_tensorrt=False, min_subgraph_size=15, precision='fp32', gpu_mem=500, image_dir=None, page_num=0, det_algorithm='DB', det_model_dir='C:\\\\Users\\\\cheongalc/.paddleocr/whl\\\\det\\\\en\\\\en_PP-OCRv3_det_infer', det_limit_side_len=960, det_limit_type='max', det_box_type='quad', det_db_thresh=0.3, det_db_box_thresh=0.6, det_db_unclip_ratio=1.5, max_batch_size=10, use_dilation=False, det_db_score_mode='fast', det_east_score_thresh=0.8, det_east_cover_thresh=0.1, det_east_nms_thresh=0.2, det_sast_score_thresh=0.5, det_sast_nms_thresh=0.2, det_pse_thresh=0, det_pse_box_thresh=0.85, det_pse_min_area=16, det_pse_scale=1, scales=[8, 16, 32], alpha=1.0, beta=1.0, fourier_degree=5, rec_algorithm='SVTR_LCNet', rec_model_dir='C:\\\\Users\\\\cheongalc/.paddleocr/whl\\\\rec\\\\en\\\\en_PP-OCRv3_rec_infer', rec_image_inverse=True, rec_image_shape='3, 48, 320', rec_batch_num=6, max_text_length=25, rec_char_dict_path='c:\\\\Users\\\\cheongalc\\\\AppData\\\\Local\\\\Programs\\\\Python\\\\Python39\\\\venv\\\\cert2grade\\\\lib\\\\site-packages\\\\paddleocr\\\\ppocr\\\\utils\\\\en_dict.txt', use_space_char=True, vis_font_path='./doc/fonts/simfang.ttf', drop_score=0.5, e2e_algorithm='PGNet', e2e_model_dir=None, e2e_limit_side_len=768, e2e_limit_type='max', e2e_pgnet_score_thresh=0.5, e2e_char_dict_path='./ppocr/utils/ic15_dict.txt', e2e_pgnet_valid_set='totaltext', e2e_pgnet_mode='fast', use_angle_cls=True, cls_model_dir='C:\\\\Users\\\\cheongalc/.paddleocr/whl\\\\cls\\\\ch_ppocr_mobile_v2.0_cls_infer', cls_image_shape='3, 48, 192', label_list=['0', '180'], cls_batch_num=6, cls_thresh=0.9, enable_mkldnn=False, cpu_threads=10, use_pdserving=False, warmup=False, sr_model_dir=None, sr_image_shape='3, 32, 128', sr_batch_num=1, draw_img_save_dir='./inference_results', save_crop_res=False, crop_res_save_dir='./output', use_mp=False, total_process_num=1, process_id=0, benchmark=False, save_log_path='./log_output/', show_log=True, use_onnx=False, output='./output', table_max_len=488, table_algorithm='TableAttn', table_model_dir=None, merge_no_span_structure=True, table_char_dict_path=None, layout_model_dir=None, layout_dict_path=None, layout_score_threshold=0.5, layout_nms_threshold=0.5, kie_algorithm='LayoutXLM', ser_model_dir=None, re_model_dir=None, use_visual_backbone=True, ser_dict_path='../train_data/XFUND/class_list_xfun.txt', ocr_order_method=None, mode='structure', image_orientation=False, layout=True, table=True, ocr=True, recovery=False, use_pdf2docx_api=False, lang='en', det=True, rec=True, type='ocr', ocr_version='PP-OCRv3', structure_version='PP-Structurev2')\n"
     ]
    },
    {
     "name": "stderr",
     "output_type": "stream",
     "text": [
      "\n"
     ]
    }
   ],
   "source": [
    "from paddleocr import PaddleOCR, draw_ocr\n",
    "ocr = PaddleOCR(use_angle_cls=True, lang='en')"
   ]
  },
  {
   "cell_type": "code",
   "execution_count": 23,
   "metadata": {},
   "outputs": [],
   "source": [
    "img_path = '../data/SP.png'"
   ]
  },
  {
   "cell_type": "code",
   "execution_count": 22,
   "metadata": {},
   "outputs": [
    {
     "name": "stdout",
     "output_type": "stream",
     "text": [
      "[2022/11/03 13:43:48] ppocr DEBUG: dt_boxes num : 94, elapse : 0.404796838760376\n",
      "[2022/11/03 13:43:49] ppocr DEBUG: cls num  : 94, elapse : 1.185828685760498\n"
     ]
    },
    {
     "ename": "KeyboardInterrupt",
     "evalue": "",
     "output_type": "error",
     "traceback": [
      "\u001b[1;31m---------------------------------------------------------------------------\u001b[0m",
      "\u001b[1;31mKeyboardInterrupt\u001b[0m                         Traceback (most recent call last)",
      "Cell \u001b[1;32mIn [22], line 1\u001b[0m\n\u001b[1;32m----> 1\u001b[0m result \u001b[39m=\u001b[39m ocr\u001b[39m.\u001b[39;49mocr(\u001b[39m'\u001b[39;49m\u001b[39m../data/SP.png\u001b[39;49m\u001b[39m'\u001b[39;49m, \u001b[39mcls\u001b[39;49m\u001b[39m=\u001b[39;49m\u001b[39mTrue\u001b[39;49;00m)\n\u001b[0;32m      2\u001b[0m \u001b[39mfor\u001b[39;00m idx \u001b[39min\u001b[39;00m \u001b[39mrange\u001b[39m(\u001b[39mlen\u001b[39m(result)):\n\u001b[0;32m      3\u001b[0m     res \u001b[39m=\u001b[39m result[idx]\n",
      "File \u001b[1;32mc:\\Users\\cheongalc\\AppData\\Local\\Programs\\Python\\Python39\\venv\\cert2grade\\lib\\site-packages\\paddleocr\\paddleocr.py:534\u001b[0m, in \u001b[0;36mPaddleOCR.ocr\u001b[1;34m(self, img, det, rec, cls)\u001b[0m\n\u001b[0;32m    532\u001b[0m ocr_res \u001b[39m=\u001b[39m []\n\u001b[0;32m    533\u001b[0m \u001b[39mfor\u001b[39;00m idx, img \u001b[39min\u001b[39;00m \u001b[39menumerate\u001b[39m(imgs):\n\u001b[1;32m--> 534\u001b[0m     dt_boxes, rec_res, _ \u001b[39m=\u001b[39m \u001b[39mself\u001b[39;49m\u001b[39m.\u001b[39;49m\u001b[39m__call__\u001b[39;49m(img, \u001b[39mcls\u001b[39;49m)\n\u001b[0;32m    535\u001b[0m     tmp_res \u001b[39m=\u001b[39m [[box\u001b[39m.\u001b[39mtolist(), res]\n\u001b[0;32m    536\u001b[0m                \u001b[39mfor\u001b[39;00m box, res \u001b[39min\u001b[39;00m \u001b[39mzip\u001b[39m(dt_boxes, rec_res)]\n\u001b[0;32m    537\u001b[0m     ocr_res\u001b[39m.\u001b[39mappend(tmp_res)\n",
      "File \u001b[1;32mc:\\Users\\cheongalc\\AppData\\Local\\Programs\\Python\\Python39\\venv\\cert2grade\\lib\\site-packages\\paddleocr\\tools\\infer\\predict_system.py:92\u001b[0m, in \u001b[0;36mTextSystem.__call__\u001b[1;34m(self, img, cls)\u001b[0m\n\u001b[0;32m     88\u001b[0m     time_dict[\u001b[39m'\u001b[39m\u001b[39mcls\u001b[39m\u001b[39m'\u001b[39m] \u001b[39m=\u001b[39m elapse\n\u001b[0;32m     89\u001b[0m     logger\u001b[39m.\u001b[39mdebug(\u001b[39m\"\u001b[39m\u001b[39mcls num  : \u001b[39m\u001b[39m{}\u001b[39;00m\u001b[39m, elapse : \u001b[39m\u001b[39m{}\u001b[39;00m\u001b[39m\"\u001b[39m\u001b[39m.\u001b[39mformat(\n\u001b[0;32m     90\u001b[0m         \u001b[39mlen\u001b[39m(img_crop_list), elapse))\n\u001b[1;32m---> 92\u001b[0m rec_res, elapse \u001b[39m=\u001b[39m \u001b[39mself\u001b[39;49m\u001b[39m.\u001b[39;49mtext_recognizer(img_crop_list)\n\u001b[0;32m     93\u001b[0m time_dict[\u001b[39m'\u001b[39m\u001b[39mrec\u001b[39m\u001b[39m'\u001b[39m] \u001b[39m=\u001b[39m elapse\n\u001b[0;32m     94\u001b[0m logger\u001b[39m.\u001b[39mdebug(\u001b[39m\"\u001b[39m\u001b[39mrec_res num  : \u001b[39m\u001b[39m{}\u001b[39;00m\u001b[39m, elapse : \u001b[39m\u001b[39m{}\u001b[39;00m\u001b[39m\"\u001b[39m\u001b[39m.\u001b[39mformat(\n\u001b[0;32m     95\u001b[0m     \u001b[39mlen\u001b[39m(rec_res), elapse))\n",
      "File \u001b[1;32mc:\\Users\\cheongalc\\AppData\\Local\\Programs\\Python\\Python39\\venv\\cert2grade\\lib\\site-packages\\paddleocr\\tools\\infer\\predict_rec.py:609\u001b[0m, in \u001b[0;36mTextRecognizer.__call__\u001b[1;34m(self, img_list)\u001b[0m\n\u001b[0;32m    607\u001b[0m \u001b[39mself\u001b[39m\u001b[39m.\u001b[39minput_tensor\u001b[39m.\u001b[39mcopy_from_cpu(norm_img_batch)\n\u001b[0;32m    608\u001b[0m \u001b[39mself\u001b[39m\u001b[39m.\u001b[39mpredictor\u001b[39m.\u001b[39mrun()\n\u001b[1;32m--> 609\u001b[0m outputs \u001b[39m=\u001b[39m []\n\u001b[0;32m    610\u001b[0m \u001b[39mfor\u001b[39;00m output_tensor \u001b[39min\u001b[39;00m \u001b[39mself\u001b[39m\u001b[39m.\u001b[39moutput_tensors:\n\u001b[0;32m    611\u001b[0m     output \u001b[39m=\u001b[39m output_tensor\u001b[39m.\u001b[39mcopy_to_cpu()\n",
      "\u001b[1;31mKeyboardInterrupt\u001b[0m: "
     ]
    }
   ],
   "source": [
    "result = ocr.ocr(img_path, cls=True)\n",
    "for idx in range(len(result)):\n",
    "    res = result[idx]\n",
    "    for line in res:\n",
    "        print(line)\n",
    "# draw result\n",
    "from PIL import Image\n",
    "result = result[0]\n",
    "image = Image.open(img_path).convert('RGB')\n",
    "boxes = [line[0] for line in result]\n",
    "txts = [line[1][0] for line in result]\n",
    "scores = [line[1][1] for line in result]\n",
    "im_show = draw_ocr(image, boxes, txts, scores, font_path='../font/consolas.ttf')\n",
    "im_show = Image.fromarray(im_show)\n",
    "im_show.save('result.jpg')"
   ]
  }
 ],
 "metadata": {
  "kernelspec": {
   "display_name": "Python 3.9.13 ('cert2grade')",
   "language": "python",
   "name": "python3"
  },
  "language_info": {
   "codemirror_mode": {
    "name": "ipython",
    "version": 3
   },
   "file_extension": ".py",
   "mimetype": "text/x-python",
   "name": "python",
   "nbconvert_exporter": "python",
   "pygments_lexer": "ipython3",
   "version": "3.9.13"
  },
  "orig_nbformat": 4,
  "vscode": {
   "interpreter": {
    "hash": "7029088697ba5ba005d0c45678542c2099d166a95b0088589fa77b332f24502a"
   }
  }
 },
 "nbformat": 4,
 "nbformat_minor": 2
}
