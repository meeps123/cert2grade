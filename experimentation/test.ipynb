{
 "cells": [
  {
   "cell_type": "code",
   "execution_count": 70,
   "metadata": {},
   "outputs": [],
   "source": [
    "from paddleocr import PaddleOCR, draw_ocr\n",
    "from PIL import Image\n",
    "import numpy as np\n",
    "import os\n",
    "import regex\n",
    "# import fitz\n",
    "# import cv2"
   ]
  },
  {
   "cell_type": "code",
   "execution_count": 72,
   "metadata": {},
   "outputs": [],
   "source": [
    "GLOBAL_INPUT_DIR = '../data/input/'\n",
    "GLOBAL_OCR = PaddleOCR(use_angle_cls=True, lang='en', show_log=False)"
   ]
  },
  {
   "cell_type": "code",
   "execution_count": 79,
   "metadata": {},
   "outputs": [
    {
     "name": "stdout",
     "output_type": "stream",
     "text": [
      "olvl\n"
     ]
    }
   ],
   "source": [
    "input_path = os.path.join(GLOBAL_INPUT_DIR, os.listdir(GLOBAL_INPUT_DIR)[0])\n",
    "\n",
    "def churn(input_file):\n",
    "    # Reject input file if it is not a PDF\n",
    "    if os.path.splitext(input_file)[-1] != '.pdf':\n",
    "        raise Exception('Input file is not a PDF.')\n",
    "    \n",
    "    # OCR the entire PDF\n",
    "    result = GLOBAL_OCR.ocr(input_file, cls=True)\n",
    "\n",
    "    # Consider the first page of the PDF to classify the general type of document.\n",
    "    # The general classification will be used to do a type-specific analysis which will give the desired output.\n",
    "    first_page_texts = [line[1][0] for line in result[0]]\n",
    "    merged_text = ' '.join(first_page_texts).lower()\n",
    "    category_counts = {}\n",
    "    categories = {\n",
    "        'nlvl' : r'normal\\s*\\(\\w+\\)\\s*level', # for n-level\n",
    "        'olvl' : r'ordinary\\s*level', # for o-level\n",
    "        'ite' : r'national\\s*ite\\s*certificate\\sin', # for NITEC or Higher NTIEC\n",
    "        'poly' : r'polytechnic', # for poly\n",
    "        'ted' : r'technical\\s*engineer\\s*diploma', # for TED\n",
    "        'alvl' : r'advanced\\s*level', # for a-level\n",
    "        'ib' : r'baccalaureate', # for IB\n",
    "        'nush' : r'nus\\s*high' # for NUS High\n",
    "    }\n",
    "    for category in categories:\n",
    "        pattern = '(' + categories[category] + '){e<=1}'\n",
    "        category_counts[category] = len(regex.findall(pattern, merged_text))\n",
    "    max_count_category = max(category_counts, key=category_counts.get)\n",
    "    if max_count_category == 'psle':\n",
    "        print('psle')\n",
    "    elif max_count_category == 'nlvl':\n",
    "        print('nlvl')\n",
    "    elif max_count_category == 'olvl':\n",
    "        print('olvl')\n",
    "    elif max_count_category == 'ite':\n",
    "        # Further differentiate between NITEC and H.NITEC\n",
    "        if len(regex.findall(r'(higher\\s*national\\s*ite\\s*certificate\\sin){e<=1}', merged_text)):\n",
    "            # its a Higher NITEC\n",
    "            print('higher_nitec')\n",
    "        else:\n",
    "            print('nitec')\n",
    "    elif max_count_category == 'poly':\n",
    "        # Further differentiate between the 5 local polys\n",
    "        polys = {\n",
    "            'rp': r'republic',\n",
    "            'np': r'ngee\\s*ann',\n",
    "            'nyp': r'nanyang',\n",
    "            'tp': r'temasek',\n",
    "            'sp': r'singapore'\n",
    "        }\n",
    "        poly_counts = {}\n",
    "        for poly in polys:\n",
    "            poly_pattern = '(' + polys[poly] + '){e<=1}'\n",
    "            poly_counts[poly] = len(regex.findall(poly_pattern, merged_text))\n",
    "        max_count_poly = max(poly_counts, key=poly_counts.get)\n",
    "        if max_count_poly == 'rp':\n",
    "            print('rp')\n",
    "        elif max_count_poly == 'np':\n",
    "            print('np')\n",
    "        elif max_count_poly == 'nyp':\n",
    "            print('nyp')\n",
    "        elif max_count_poly == 'tp':\n",
    "            print('tp')\n",
    "        elif max_count_poly == 'sp':\n",
    "            print('sp')\n",
    "    elif max_count_category == 'ted':\n",
    "        print('ted')\n",
    "    elif max_count_category == 'alvl':\n",
    "        print('alvl')\n",
    "    elif max_count_category == 'ib':\n",
    "        print('ib')\n",
    "    elif max_count_category == 'nush':\n",
    "        print('nush')\n",
    "\n",
    "churn(input_path)\n"
   ]
  }
 ],
 "metadata": {
  "kernelspec": {
   "display_name": "Python 3.9.13 ('cert2grade')",
   "language": "python",
   "name": "python3"
  },
  "language_info": {
   "codemirror_mode": {
    "name": "ipython",
    "version": 3
   },
   "file_extension": ".py",
   "mimetype": "text/x-python",
   "name": "python",
   "nbconvert_exporter": "python",
   "pygments_lexer": "ipython3",
   "version": "3.9.13"
  },
  "orig_nbformat": 4,
  "vscode": {
   "interpreter": {
    "hash": "7029088697ba5ba005d0c45678542c2099d166a95b0088589fa77b332f24502a"
   }
  }
 },
 "nbformat": 4,
 "nbformat_minor": 2
}
